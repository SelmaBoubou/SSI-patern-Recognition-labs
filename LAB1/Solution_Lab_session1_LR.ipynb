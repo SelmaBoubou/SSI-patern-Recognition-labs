{
 "cells": [
  {
   "cell_type": "markdown",
   "metadata": {},
   "source": [
    "# Lab session 1 ---- Linear Regression"
   ]
  },
  {
   "cell_type": "markdown",
   "metadata": {},
   "source": [
    "Student: Boudissa Selma                     \n",
    "Date:09/03/18"
   ]
  },
  {
   "cell_type": "markdown",
   "metadata": {},
   "source": [
    "## I. Introduction\n",
    "In this exercise, we will implement linear regression with one and multiple variables, as well as gradient descent."
   ]
  },
  {
   "cell_type": "markdown",
   "metadata": {},
   "source": [
    "## II. Linear regression with one variable\n",
    "Suppose you are the CEO of a restaurant franchise and are considering different cities for opening a new food truck. The chain already has trucks in various cities and you have data for profits and populations from the cities.\n",
    "You would like to use this data to help you select which city to expand to next. The file lab1data1.txt contains the dataset: the first column is the poplulation of a city and the second column is the profit of a food truck in that city. An negative value for profit indicates a loss."
   ]
  },
  {
   "cell_type": "markdown",
   "metadata": {},
   "source": [
    "### Solution Question 1"
   ]
  },
  {
   "cell_type": "code",
   "execution_count": 2,
   "metadata": {
    "collapsed": true
   },
   "outputs": [],
   "source": [
    "import numpy as np\n",
    "import matplotlib.pyplot as plt \n"
   ]
  },
  {
   "cell_type": "code",
   "execution_count": 7,
   "metadata": {
    "collapsed": false
   },
   "outputs": [
    {
     "data": {
      "image/png": "[encoded data removed]",
      "text/plain": [
       "<matplotlib.figure.Figure at 0x7f6e30b10b50>"
      ]
     },
     "metadata": {},
     "output_type": "display_data"
    }
   ],
   "source": [
    "# load the data\n",
    "data = np.loadtxt(\"data1.txt\", delimiter=',')\n",
    "X = np.atleast_2d(data[:, :-1])\n",
    "y = data[:, -1]\n",
    "print('There is {} samples and {} features'.format(X.shape[0],X.shape[1]))\n",
    "\n",
    "#print the data\n",
    "\n",
    "plt.figure()\n",
    "plt.scatter(X, y, label='training')\n",
    "plt.xlabel('Population by city in 10,000s')\n",
    "plt.ylabel('Profit in $10,000s')\n",
    "plt.legend()\n",
    "plt.show()"
   ]
  },
  {
   "cell_type": "markdown",
   "metadata": {},
   "source": [
    "### Solution Question 2"
   ]
  },
  {
   "cell_type": "code",
   "execution_count": 17,
   "metadata": {
    "collapsed": false
   },
   "outputs": [
    {
     "name": "stdout",
     "output_type": "stream",
     "text": [
      "[ 0.71726101 -0.01357131]\n",
      "[-3.89578088  1.19303364]\n"
     ]
    },
    {
     "data": {
      "image/png": "[encoded data removed]",
      "text/plain": [
       "<matplotlib.figure.Figure at 0x25508153208>"
      ]
     },
     "metadata": {},
     "output_type": "display_data"
    }
   ],
   "source": [
    "# Function Linear regression \n",
    "def linear_regression (x,y):\n",
    "    n = len(x); #size of x\n",
    "    \n",
    "    A = sum(x*y)-sum(x)*sum(y);\n",
    "    B = sum(x**(2))-((sum(x))**(2));\n",
    "    \n",
    "    w1=(n*A)/(n*B);\n",
    "    w0=np.mean(y)-w1*np.mean(x);\n",
    "    \n",
    "    w = [w1,w0]\n",
    "\n",
    "    return w\n",
    "\n",
    "# check that the linear regression is working\n",
    "wt = linear_regression(X, y)\n",
    "\n",
    "w1, w0 = wt \n",
    "x = X \n",
    "yr = w0 + w1 * x\n",
    "\n",
    "\n",
    "# Plotting \n",
    "plt.plot(x , np.mean(yr, axis=1))\n",
    "plt.plot(x,y, 'rx')\n",
    "\n",
    "intercept = np.ones((x.shape[0], 1))\n",
    "Xstack = np.asmatrix(np.hstack((intercept, x)))\n",
    "# Least square \n",
    "wt2,_,_,_ = np.linalg.lstsq(Xstack,y)\n",
    "\n",
    "print(np.mean(wt, axis=1))\n",
    "print(wt2)\n",
    "\n",
    "yrtrue = wt2[1] * x + wt2[0]\n",
    "\n",
    "#plotting\n",
    "plt.plot(x,yrtrue, 'g')\n",
    "plt.show()\n",
    "\n",
    "\n",
    "# ---------------------------------------------------------------------------------------------------------------------\n",
    "# OTHER METHOD\n",
    "#def linear_regression (x,y):\n",
    "#if intercept:\n",
    "# X_ = np.asmatrix(X)\n",
    "#else\n",
    "#intercept_array = np.ones((X.shape[0], 1))\n",
    "# add intercept\n",
    "#  X_ = np.asmatyrix(np.hstack((intercept_array, X))\n",
    "#Least squares\n",
    "# w,_,_,_=np.linalg.lstsq(x_,y)\n",
    "#return w\n",
    "#plotting\n",
    "#w = linear_regression(X,y)\n",
    "#print('the parameters estimated are: {}'.format(w))"
   ]
  },
  {
   "cell_type": "markdown",
   "metadata": {},
   "source": [
    "### Solution Question 3"
   ]
  },
  {
   "cell_type": "code",
   "execution_count": 18,
   "metadata": {
    "collapsed": false
   },
   "outputs": [
    {
     "name": "stdout",
     "output_type": "stream",
     "text": [
      "The parameters estimated are: [  2798.3686  44554.546 ]\n"
     ]
    }
   ],
   "source": [
    "# Making Predictations\n",
    "test = np.array ([3.5, 7.0])\n",
    "w = [ 1.19303364,-3.89578088 ]\n",
    "def predict (wt2,y):\n",
    "    y = np.vstack([y.flatten(), np.ones(len(y.flatten()))])\n",
    "    predict = np.dot(wt2,y)\n",
    "    return predict\n",
    "\n",
    "prediction = predict (w,test)\n",
    "print('The parameters estimated are: {}'.format(prediction*10000))\n"
   ]
  },
  {
   "cell_type": "markdown",
   "metadata": {},
   "source": [
    "## III. Linear regression with multiple variables\n",
    "Suppose you are selling your house and you want to know what a good market price would be. One way to do this is to collect information on recent houses sold and make a model of housing prices.\n",
    "The file lab1data2.txt contains a training set of housing prices in a city. The first column is the size of the house (in square feet), the second column is the number of bedrooms and the third column is the price of the house."
   ]
  },
  {
   "cell_type": "markdown",
   "metadata": {},
   "source": [
    "### Solution Question 1"
   ]
  },
  {
   "cell_type": "code",
   "execution_count": 19,
   "metadata": {
    "collapsed": false
   },
   "outputs": [
    {
     "name": "stdout",
     "output_type": "stream",
     "text": [
      "There is 97 samples and 1 features\n",
      "The parameters estimated are: [ 89597.9095428     139.21067402  -8738.01911233]\n"
     ]
    }
   ],
   "source": [
    "#Loading Data\n",
    "data2 = np.loadtxt('data2.txt', delimiter=',')\n",
    "\n",
    "# Function for linear regression with multiple variables\n",
    "def linear_regression_mutiple(data):\n",
    "    x = data[:,0:2]\n",
    "    y = data[:,2]\n",
    "    x = np.vstack((np.ones((1,x.shape[0])),x.T)).T\n",
    "    w,_,_,_ = np.linalg.lstsq(x,y,rcond=0)\n",
    "    return w\n",
    "\n",
    "# check that the linear regression is working \n",
    "w = linear_regression_mutiple(data2)\n",
    "# w should have three parameters now\n",
    "assert w.size == 3\n",
    "# plotting\n",
    "print('There is {} samples and {} features'.format(X.shape[0], X.shape[1]))\n",
    "print('The parameters estimated are: {}'.format(w))"
   ]
  },
  {
   "cell_type": "code",
   "execution_count": null,
   "metadata": {
    "collapsed": true
   },
   "outputs": [],
   "source": []
  },
  {
   "cell_type": "markdown",
   "metadata": {},
   "source": [
    "### Solution Question 2"
   ]
  },
  {
   "cell_type": "code",
   "execution_count": 51,
   "metadata": {
    "collapsed": false
   },
   "outputs": [
    {
     "data": {
      "image/png": "[encoded data removed]",
      "text/plain": [
       "<matplotlib.figure.Figure at 0x255083768d0>"
      ]
     },
     "metadata": {},
     "output_type": "display_data"
    }
   ],
   "source": [
    "# Feature normalization\n",
    "\n",
    "def featureNormalize(X):\n",
    "    \n",
    "    [Xn, mu, sigma] = featureNormalize(X)\n",
    "    mu = mean(X)\n",
    "    Xn = X - mu\n",
    "    sigma = stp(Xn)\n",
    "    Xn1 = Xn1/sigma1\n",
    "    Xn2 = Xn2/sigma2\n",
    "    \n",
    "# Calculates mean and std dev for each feature\n",
    "    for i in range (1,size(mu,2)):\n",
    "        mu[1,i] = mean(X[:,i])\n",
    "        sigma[1,i] = std(X[:,i])\n",
    "        Xn[:,i] = (X[:,i]-mu(1,i))/sigma(1,i)\n",
    "    return Xn\n",
    "# Plotting \n",
    "#print('The parameters estimated are: {}'.format(X))\n",
    "plt.figure()\n",
    "plt.plot(X)\n",
    "plt.title('Feature Normalization')\n",
    "plt.show()"
   ]
  },
  {
   "cell_type": "markdown",
   "metadata": {},
   "source": [
    "### Solution Question 3"
   ]
  },
  {
   "cell_type": "code",
   "execution_count": null,
   "metadata": {
    "collapsed": true
   },
   "outputs": [],
   "source": [
    "# Estimation after feature Normalization \n",
    "\n"
   ]
  },
  {
   "cell_type": "markdown",
   "metadata": {},
   "source": [
    "### Solution Question 4"
   ]
  },
  {
   "cell_type": "code",
   "execution_count": null,
   "metadata": {
    "collapsed": true
   },
   "outputs": [],
   "source": [
    "# Prediction of the price base on the previous estimation s"
   ]
  },
  {
   "cell_type": "markdown",
   "metadata": {},
   "source": [
    "## IV. Gradient descent\n",
    "We will now perform linear regression using gradient descent."
   ]
  },
  {
   "cell_type": "markdown",
   "metadata": {},
   "source": [
    "### Solution Question 1"
   ]
  },
  {
   "cell_type": "code",
   "execution_count": 123,
   "metadata": {
    "collapsed": false
   },
   "outputs": [
    {
     "name": "stdout",
     "output_type": "stream",
     "text": [
      "The parameters estimated are: 32.072733877455676\n"
     ]
    }
   ],
   "source": [
    "def compute_cost(X, y, theta):\n",
    "    '''\n",
    "    Comput cost for linear regression\n",
    "    '''\n",
    "    #Number of training samples\n",
    "    m = y.size\n",
    "\n",
    "    predictions = X.dot(theta).flatten()\n",
    "\n",
    "    sqErrors = (predictions - y) ** 2\n",
    "\n",
    "    J = (1.0 / (2 * m)) * sqErrors.sum()\n",
    "    return (J)\n",
    "\n",
    "\n",
    "X = data[:, 0]\n",
    "y = data[:, 1]\n",
    "\n",
    "#Initialize theta parameters\n",
    "theta = np.zeros(shape=(2, 1))\n",
    "#Add a column of ones to X (interception data)\n",
    "it = np.ones(shape=(y.size, 2))\n",
    "#it[:, 1] = X\n",
    "#compute and display initial cost\n",
    "cost = compute_cost(it, y, theta)\n",
    "print('The parameters estimated are: {}'.format(cost))"
   ]
  },
  {
   "cell_type": "markdown",
   "metadata": {},
   "source": [
    "### Solution Question 2"
   ]
  },
  {
   "cell_type": "code",
   "execution_count": 151,
   "metadata": {
    "collapsed": false
   },
   "outputs": [
    {
     "data": {
      "image/png": "[encoded data removed]",
      "text/plain": [
       "<matplotlib.figure.Figure at 0x255085bec50>"
      ]
     },
     "metadata": {},
     "output_type": "display_data"
    }
   ],
   "source": [
    "def gradient_descent(X, y, theta, alpha, num_iters):\n",
    "    m = y.size\n",
    "    J_history = np.zeros(shape=(num_iters, 1))\n",
    "    return (theta, J_history);\n",
    "\n",
    "#for i in range(1,num_iters):\n",
    "    predictions = X.dot(theta).flatten()\n",
    "    errors_x1 = (predictions - y) * X[:, 0]\n",
    "    errors_x2 = (predictions - y) * X[:, 1]\n",
    "\n",
    "    theta[0][0] = theta[0][0] - alpha * (1.0 / m) * errors_x1.sum()\n",
    "    theta[1][0] = theta[1][0] - alpha * (1.0 / m) * errors_x2.sum()\n",
    "\n",
    "    J_history[i, 0] = compute_cost(X, y, theta)\n",
    "\n",
    "#Load the dataset\n",
    "data = np.loadtxt('data1.txt', delimiter=',')\n",
    "\n",
    "#Plot the data\n",
    "#plt.scatter(data[:, 0], data[:, 1], marker='o', c='b')\n",
    "\n",
    "X = data[:, 0]\n",
    "y = data[:, 1]\n",
    "\n",
    "\n",
    "#number of training samples\n",
    "m = y.size\n",
    "\n",
    "#Add a column of ones to X (interception data)\n",
    "it = np.ones(shape=(m, 2))\n",
    "it[:, 1] = X\n",
    "\n",
    "#Initialize theta parameters\n",
    "theta = np.zeros(shape=(2, 1))\n",
    "\n",
    "#Some gradient descent settings\n",
    "iterations = 1500\n",
    "alpha = 0.01\n",
    "\n",
    "\n",
    "\n",
    "theta, J_history = gradient_descent(it, y, theta, alpha, iterations)\n",
    "\n",
    "\n",
    "#Plot the results\n",
    "result = it.dot(theta).flatten()\n",
    "plt.plot(data[:, 0], result)\n",
    "plt.show()\n",
    "\n",
    "\n",
    "#Grid over which we will calculate J\n",
    "theta0_vals = np.linspace(-10, 10, 100)\n",
    "theta1_vals = np.linspace(-1, 4, 100)\n",
    "\n",
    "\n",
    "#initialize J_vals to a matrix of 0's\n",
    "J_vals = np.zeros(shape=(theta0_vals.size, theta1_vals.size))\n",
    "\n",
    "\n"
   ]
  },
  {
   "cell_type": "markdown",
   "metadata": {},
   "source": [
    "### Solution Question 3"
   ]
  },
  {
   "cell_type": "code",
   "execution_count": null,
   "metadata": {
    "collapsed": true
   },
   "outputs": [],
   "source": []
  }
 ],
 "metadata": {
  "anaconda-cloud": {},
  "kernelspec": {
   "display_name": "Python [default]",
   "language": "python",
   "name": "python3"
  },
  "language_info": {
   "codemirror_mode": {
    "name": "ipython",
    "version": 3
   },
   "file_extension": ".py",
   "mimetype": "text/x-python",
   "name": "python",
   "nbconvert_exporter": "python",
   "pygments_lexer": "ipython3",
   "version": "3.5.2"
  }
 },
 "nbformat": 4,
 "nbformat_minor": 1
}
