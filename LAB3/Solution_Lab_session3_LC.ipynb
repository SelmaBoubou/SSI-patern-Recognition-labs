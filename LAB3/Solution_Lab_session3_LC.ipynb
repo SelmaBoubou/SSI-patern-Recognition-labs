{
 "cells": [
  {
   "cell_type": "markdown",
   "metadata": {
    "collapsed": true
   },
   "source": [
    "# Lab session 3 ---- Linear Classification"
   ]
  },
  {
   "cell_type": "markdown",
   "metadata": {},
   "source": [
    "Student: Selma BOUDISSA                      \n",
    "Date: 18/05/2018"
   ]
  },
  {
   "cell_type": "code",
   "execution_count": 27,
   "metadata": {},
   "outputs": [
    {
     "name": "stdout",
     "output_type": "stream",
     "text": [
      "Pretty printing has been turned ON\n"
     ]
    }
   ],
   "source": [
    "# needed libraries\n",
    "%matplotlib inline\n",
    "%pprint off\n",
    "import matplotlib.pyplot as plt\n",
    "import scipy as sp\n",
    "import numpy as np\n",
    "from numpy import linalg\n",
    "from scipy.stats import chi2\n",
    "from matplotlib.patches import Ellipse\n"
   ]
  },
  {
   "cell_type": "markdown",
   "metadata": {},
   "source": [
    "## I. Introduction\n",
    "In this lab, we will implement linear discriminant analysis and logistic regression.\n",
    "We will try to recognize images.\n",
    "You shall submit a clearly written and commented report as well as your own code."
   ]
  },
  {
   "cell_type": "markdown",
   "metadata": {},
   "source": [
    "## II. Female or Male?\n",
    "The file heightWeightData.txt contains some data showing the height and weight of different people. The first column is the class label (1=male, 2=female), the second column is the height and the third is the weight."
   ]
  },
  {
   "cell_type": "markdown",
   "metadata": {},
   "source": [
    "## Question 1\n",
    "Extract the height/weight data corresponding to males. "
   ]
  },
  {
   "cell_type": "code",
   "execution_count": 28,
   "metadata": {
    "collapsed": true
   },
   "outputs": [],
   "source": [
    "def plot_cov_ellipse(cov, pos, volume=.5, ax=None, fc='none', ec=[0,0,0], a=1, lw=2):\n",
    "\n",
    "    def eigsorted(cov):\n",
    "        vals, vecs = np.linalg.eigh(cov)\n",
    "        order = vals.argsort()[::-1]\n",
    "        return vals[order], vecs[:,order]\n",
    "\n",
    "    if ax is None:\n",
    "        ax = plt.gca()\n",
    "\n",
    "    vals, vecs = eigsorted(cov)\n",
    "    theta = np.degrees(np.arctan2(*vecs[:,0][::-1]))\n",
    "\n",
    "    kwrg = {'facecolor':fc, 'edgecolor':ec, 'alpha':a, 'linewidth':lw}\n",
    "\n",
    "    # Width and height are \"full\" widths, not radius\n",
    "    width, height = 2 * np.sqrt(chi2.ppf(volume,2)) * np.sqrt(vals)\n",
    "    ellip = Ellipse(xy=pos, width=width, height=height, angle=theta, **kwrg)\n",
    "\n",
    "    ax.add_artist(ellip)"
   ]
  },
  {
   "cell_type": "code",
   "execution_count": 29,
   "metadata": {
    "collapsed": true
   },
   "outputs": [],
   "source": [
    "# read the data file 'heightWeightData.txt'\n",
    "data_mat = np.loadtxt(\"data.txt\", delimiter= \",\")\n",
    "\n",
    "# extract rows containing data of males (label = 1)\n",
    "labels = data_mat[:,0]\n",
    "idx_male = (labels == 1)\n",
    "\n",
    "X = data_mat[idx_male,1:3]\n",
    "\n",
    "# mean of male heights and weights\n",
    "mean_male = np.mean(X, 0)\n",
    "\n",
    "# covariance of male height and weight\n",
    "from numpy.matlib import repmat\n",
    "X_meanCentered = X - repmat(mean_male, np.size(X, 0), 1)\n",
    "cov_male = np.cov(X.T)\n",
    "\n",
    "# Normalization\n",
    "X_normalized = np.column_stack([X_meanCentered[:,0]*1./cov_male[0,0], X_meanCentered[:,1]*1./cov_male[1,1]]) \n",
    "mean_male_normalized = np.mean(X_normalized, 0)\n",
    "cov_male_normalized = np.cov(X_normalized.T)"
   ]
  },
  {
   "cell_type": "code",
   "execution_count": 30,
   "metadata": {},
   "outputs": [
    {
     "data": {
      "image/png": "[encoded data removed]",
      "text/plain": [
       "<matplotlib.figure.Figure at 0x21c1d667780>"
      ]
     },
     "metadata": {},
     "output_type": "display_data"
    }
   ],
   "source": [
    "# visualizing male data and gaussians\n",
    "gaussianSamples = np.random.multivariate_normal(mean_male, cov_male, 1000)\n",
    "\n",
    "pdata = plt.scatter(X[:,0], X[:,1], color = 'r', marker = '.')\n",
    "pdatagauss = plot_cov_ellipse(cov_male, mean_male)\n",
    "\n",
    "plt.xlabel('Height of males')\n",
    "plt.ylabel('Weight of males')\n",
    "plt.title('Figure 1:Gaussian fitted to height and weight of males')\n",
    "\n",
    "plt.show()"
   ]
  },
  {
   "cell_type": "markdown",
   "metadata": {},
   "source": [
    "## Question 2 \n",
    "Standardize the data (i.e. make each feature have 0 mean and unit variance) and re-estimate the\n",
    "2d Gaussian."
   ]
  },
  {
   "cell_type": "code",
   "execution_count": null,
   "metadata": {
    "collapsed": true
   },
   "outputs": [],
   "source": [
    "\n",
    "# estimate dominant eigenvectors of data\n",
    "cov_male_centered = np.cov(X_meanCentered.T)\n",
    "evals, evecs = np.linalg.eigh(cov_male_centered)\n",
    "order = evals.argsort()[::-1]\n",
    "evals = evals[order]\n",
    "evecs = evecs[:,order]\n",
    "\n",
    "# project data along the dominant eigenvectors \n",
    "#(since 2D data, 2D eigenvectors)\n",
    "X_whitened = np.dot(np.diag(1./evals), np.dot(evecs.T, X_meanCentered.T))\n",
    "X_whitened = X_whitened.T\n"
   ]
  },
  {
   "cell_type": "markdown",
   "metadata": {},
   "source": [
    "## Question 3\n",
    "data whitening or sphering"
   ]
  },
  {
   "cell_type": "code",
   "execution_count": 31,
   "metadata": {},
   "outputs": [
    {
     "data": {
      "image/png": "[encoded data removed]",
      "text/plain": [
       "<matplotlib.figure.Figure at 0x21c1dfa0828>"
      ]
     },
     "metadata": {},
     "output_type": "display_data"
    },
    {
     "name": "stdout",
     "output_type": "stream",
     "text": [
      "[[  9.50724221e-04  -7.04731412e-19]\n",
      " [ -7.04731412e-19   1.31396910e-01]]\n"
     ]
    }
   ],
   "source": [
    "\n",
    "\n",
    "\n",
    "# visualizing male data and gaussians after normalization\n",
    "mean_male_whitened = np.mean(X_whitened, 0)\n",
    "cov_male_whitened = np.cov(X_whitened.T)\n",
    "\n",
    "plt.scatter(X_whitened[:,0], X_whitened[:,1], color = 'b', marker = '.')\n",
    "plot_cov_ellipse(cov_male_whitened, mean_male_whitened)\n",
    "\n",
    "plt.xlabel('Centered Height of males')\n",
    "plt.ylabel('Centered Weight of males')\n",
    "plt.title('Gaussian fitted to whitened height and weight of males')\n",
    "plt.xlim([-0.12, 0.12])\n",
    "plt.ylim([-1.5, 1.5])\n",
    "plt.title('Figure 2: Normalized Gaussian')\n",
    "plt.show()\n",
    "\n",
    "print (cov_male_whitened)"
   ]
  },
  {
   "cell_type": "markdown",
   "metadata": {},
   "source": [
    "## We now want to use the height/weight features to classify each person as male or female.\n",
    "## Question 1\n",
    "Use LDA to perform this classification and compute the training error. Note that we will use all data as training set."
   ]
  },
  {
   "cell_type": "code",
   "execution_count": null,
   "metadata": {
    "collapsed": true
   },
   "outputs": [],
   "source": []
  },
  {
   "cell_type": "markdown",
   "metadata": {},
   "source": [
    "## Question 2\n",
    "We can also use PCA to project the data onto a 1d space. Compute the corresponding principal component and explain the difference with the decision boundary found by LDA?"
   ]
  },
  {
   "cell_type": "code",
   "execution_count": null,
   "metadata": {
    "collapsed": true
   },
   "outputs": [],
   "source": []
  },
  {
   "cell_type": "markdown",
   "metadata": {},
   "source": [
    "## III. Digits recognition"
   ]
  },
  {
   "cell_type": "markdown",
   "metadata": {},
   "source": [
    "## Question 1\n",
    "Data visualization"
   ]
  },
  {
   "cell_type": "code",
   "execution_count": 32,
   "metadata": {},
   "outputs": [
    {
     "data": {
      "image/png": "[encoded data removed]",
      "text/plain": [
       "<matplotlib.figure.Figure at 0x21c1b95a2e8>"
      ]
     },
     "metadata": {},
     "output_type": "display_data"
    }
   ],
   "source": [
    "# Digit recognition\n",
    "\n",
    "from scipy import io\n",
    "\n",
    "\n",
    "train_data = io.loadmat('trainingData.mat')['training']\n",
    "train_labels = io.loadmat('trainingData.mat')['trainingLabels']\n",
    "test_data = io.loadmat('testData.mat')['test']\n",
    "test_labels = io.loadmat('testData.mat')['testLabels']\n",
    "\n",
    "# data visualization\n",
    "from skimage import io\n",
    "\n",
    "plt.figure()\n",
    "io.imshow(np.reshape(train_data[7999,:],(28,28)))\n",
    "plt.title('Figure 3: Digits recognition')\n",
    "plt.show()"
   ]
  },
  {
   "cell_type": "markdown",
   "metadata": {},
   "source": [
    "## Question 2\n",
    "Dimension reduction:"
   ]
  },
  {
   "cell_type": "code",
   "execution_count": 33,
   "metadata": {},
   "outputs": [
    {
     "name": "stdout",
     "output_type": "stream",
     "text": [
      "[0 1 2 3 4 5 6 7 8 9]\n"
     ]
    },
    {
     "data": {
      "text/plain": [
       "<function matplotlib.pyplot.show>"
      ]
     },
     "execution_count": 33,
     "metadata": {},
     "output_type": "execute_result"
    },
    {
     "data": {
      "image/png": "[encoded data removed]",
      "text/plain": [
       "<matplotlib.figure.Figure at 0x21c1e4b23c8>"
      ]
     },
     "metadata": {},
     "output_type": "display_data"
    }
   ],
   "source": [
    "from sklearn.decomposition import PCA\n",
    "\n",
    "pca = PCA(n_components = 2)\n",
    "train_data_dr = pca.fit_transform(train_data)\n",
    "\n",
    "cs = np.unique(train_labels)\n",
    "print(cs)\n",
    "colors = ['r','m','g','k','y','c','b']\n",
    "plt.figure()\n",
    "\n",
    "for i,c in enumerate(cs):\n",
    "    idx = (train_labels == c)\n",
    "    c_sample = train_data_dr[idx[:,0],:]\n",
    "    \n",
    "    if c <= 6:\n",
    "        plt.scatter(c_sample[1:20,0], c_sample[1:20, 1], color=colors[i],marker = 'o')\n",
    "    else:\n",
    "        plt.scatter(c_sample[1:20,0], c_sample[1:20, 1], color=colors[i-6], marker = 'v')\n",
    "        \n",
    "plt.legend(['c_0','c_1','c_2','c_3','c_4','c_5','c_6','c_7','c_8','c_9'])\n",
    "plt.title('Figure 4: 20 sample for each class after dimension reduction')\n",
    "plt.show\n",
    "\n",
    "  "
   ]
  },
  {
   "cell_type": "markdown",
   "metadata": {},
   "source": [
    "## Question 3\n",
    "Classification"
   ]
  },
  {
   "cell_type": "code",
   "execution_count": 22,
   "metadata": {},
   "outputs": [
    {
     "ename": "ValueError",
     "evalue": "Expected 2D array, got 1D array instead:\narray=[   0.    0.    0.    0.    0.    0.    0.    0.    0.    0.    0.    0.\n    0.    0.    0.    0.    0.    0.    0.    0.    0.    0.    0.    0.\n    0.    0.    0.    0.    0.    0.    0.    0.    0.    0.    0.    0.\n    0.    0.    0.    0.    0.    0.    0.    0.    0.    0.    0.    0.\n    0.    0.    0.    0.    0.    0.    0.    0.    0.    0.    0.    0.\n    0.    0.    0.    0.    0.    0.    0.    0.    0.    0.    0.    0.\n    0.    0.    0.    0.    0.    0.    0.    0.    0.    0.    0.    0.\n    0.    0.    0.    0.    0.    0.    0.    0.    0.    0.    0.    0.\n    0.    0.    0.    0.    0.    0.    0.    0.    0.    0.    0.    0.\n    0.    0.    0.    0.    0.    0.    0.    0.    0.    0.    0.    0.\n    0.    0.    0.    0.    0.    0.    0.    0.    0.    0.    0.    0.\n    0.    0.    0.    0.    0.    0.    0.    0.    0.    0.    0.    0.\n    0.    0.    0.    0.    0.    0.    0.    0.   17.   66.  138.  255.\n  253.  169.  138.   23.    0.    0.    0.    0.    0.    0.    0.    0.\n    0.    0.    0.    0.    0.    0.    0.    0.    0.    0.    5.  120.\n  228.  252.  252.  253.  252.  252.  252.  158.    0.    0.    0.    0.\n    0.    0.    0.    0.    0.    0.    0.    0.    0.    0.    0.    0.\n    0.    0.  108.  252.  252.  252.  252.  190.  252.  252.  252.  252.\n    0.    0.    0.    0.    0.    0.    0.    0.    0.    0.    0.    0.\n    0.    0.    0.    0.    0.   43.  233.  252.  252.  252.  116.    5.\n  135.  252.  252.  252.    0.    0.    0.    0.    0.    0.    0.    0.\n    0.    0.    0.    0.    0.    0.    0.    0.   43.  178.  253.  252.\n  221.   43.    2.    0.    5.   54.  232.  252.  210.    0.    0.    0.\n    0.    0.    0.    0.    0.    0.    0.    0.    0.    0.    0.    0.\n   93.  253.  255.  249.  115.    0.    0.    0.    0.    0.  136.  251.\n  255.  154.    0.    0.    0.    0.    0.    0.    0.    0.    0.    0.\n    0.    0.    0.    0.  166.  252.  253.  185.    0.    0.    0.    0.\n    0.    0.    0.  209.  253.  206.    0.    0.    0.    0.    0.    0.\n    0.    0.    0.    0.    0.    0.    0.   19.  220.  252.  253.   92.\n    0.    0.    0.    0.    0.    0.    0.  116.  253.  206.    0.    0.\n    0.    0.    0.    0.    0.    0.    0.    0.    0.    0.    0.   70.\n  252.  252.  192.   17.    0.    0.    0.    0.    0.    0.    0.  116.\n  253.  223.   25.    0.    0.    0.    0.    0.    0.    0.    0.    0.\n    0.    0.    0.  122.  252.  252.   63.    0.    0.    0.    0.    0.\n    0.    0.    0.  116.  253.  252.   69.    0.    0.    0.    0.    0.\n    0.    0.    0.    0.    0.    0.    0.  132.  253.  253.    0.    0.\n    0.    0.    0.    0.    0.    0.    0.  116.  255.  253.   69.    0.\n    0.    0.    0.    0.    0.    0.    0.    0.    0.    0.    0.  184.\n  252.  252.    0.    0.    0.    0.    0.    0.    0.    0.    0.  116.\n  253.  252.   69.    0.    0.    0.    0.    0.    0.    0.    0.    0.\n    0.    0.    0.  184.  252.  252.    0.    0.    0.    0.    0.    0.\n    0.    0.    0.  116.  253.  240.   50.    0.    0.    0.    0.    0.\n    0.    0.    0.    0.    0.    0.    0.  184.  252.  252.    0.    0.\n    0.    0.    0.    0.    0.    0.    0.  210.  253.  112.    0.    0.\n    0.    0.    0.    0.    0.    0.    0.    0.    0.    0.    0.   48.\n  232.  252.  158.    0.    0.    0.    0.    0.    0.    0.    0.  230.\n  232.    8.    0.    0.    0.    0.    0.    0.    0.    0.    0.    0.\n    0.    0.    0.    0.   93.  253.  244.   50.    0.    0.    0.    0.\n    0.    0.  155.  253.  168.    0.    0.    0.    0.    0.    0.    0.\n    0.    0.    0.    0.    0.    0.    0.    0.   34.  164.  253.  113.\n    0.    0.    0.    0.    0.   66.  236.  231.   42.    0.    0.    0.\n    0.    0.    0.    0.    0.    0.    0.    0.    0.    0.    0.    0.\n    0.   32.  222.  240.  134.    0.    0.   38.   91.  234.  252.  137.\n    0.    0.    0.    0.    0.    0.    0.    0.    0.    0.    0.    0.\n    0.    0.    0.    0.    0.    0.   25.  177.  240.  207.  103.  233.\n  252.  252.  176.   35.    0.    0.    0.    0.    0.    0.    0.    0.\n    0.    0.    0.    0.    0.    0.    0.    0.    0.    0.    0.   15.\n   54.  179.  252.  137.  137.   54.    4.    0.    0.    0.    0.    0.\n    0.    0.    0.    0.    0.    0.    0.    0.    0.    0.    0.    0.\n    0.    0.    0.    0.    0.    0.    0.    0.    0.    0.    0.    0.\n    0.    0.    0.    0.    0.    0.    0.    0.    0.    0.    0.    0.\n    0.    0.    0.    0.    0.    0.    0.    0.    0.    0.    0.    0.\n    0.    0.    0.    0.    0.    0.    0.    0.    0.    0.    0.    0.\n    0.    0.    0.    0.    0.    0.    0.    0.    0.    0.    0.    0.\n    0.    0.    0.    0.    0.    0.    0.    0.    0.    0.    0.    0.\n    0.    0.    0.    0.].\nReshape your data either using array.reshape(-1, 1) if your data has a single feature or array.reshape(1, -1) if it contains a single sample.",
     "output_type": "error",
     "traceback": [
      "\u001b[1;31m---------------------------------------------------------------------------\u001b[0m",
      "\u001b[1;31mValueError\u001b[0m                                Traceback (most recent call last)",
      "\u001b[1;32m<ipython-input-22-fc7f8eb409ac>\u001b[0m in \u001b[0;36m<module>\u001b[1;34m()\u001b[0m\n\u001b[0;32m      6\u001b[0m \u001b[0mlogisticRegr\u001b[0m \u001b[1;33m=\u001b[0m \u001b[0mLogisticRegression\u001b[0m\u001b[1;33m(\u001b[0m\u001b[0msolver\u001b[0m \u001b[1;33m=\u001b[0m \u001b[1;34m'lbfgs'\u001b[0m\u001b[1;33m)\u001b[0m\u001b[1;33m\u001b[0m\u001b[0m\n\u001b[0;32m      7\u001b[0m \u001b[1;33m\u001b[0m\u001b[0m\n\u001b[1;32m----> 8\u001b[1;33m \u001b[0mtrain_data_n\u001b[0m \u001b[1;33m=\u001b[0m \u001b[0mlogisticRegr\u001b[0m\u001b[1;33m.\u001b[0m\u001b[0mfit\u001b[0m\u001b[1;33m(\u001b[0m\u001b[0mtrain_data\u001b[0m\u001b[1;33m[\u001b[0m\u001b[1;36m2\u001b[0m\u001b[1;33m]\u001b[0m\u001b[1;33m,\u001b[0m\u001b[1;36m2\u001b[0m\u001b[1;33m)\u001b[0m\u001b[1;33m\u001b[0m\u001b[0m\n\u001b[0m\u001b[0;32m      9\u001b[0m \u001b[1;33m\u001b[0m\u001b[0m\n\u001b[0;32m     10\u001b[0m \u001b[1;33m\u001b[0m\u001b[0m\n",
      "\u001b[1;32m~\\Anaconda3\\lib\\site-packages\\sklearn\\linear_model\\logistic.py\u001b[0m in \u001b[0;36mfit\u001b[1;34m(self, X, y, sample_weight)\u001b[0m\n\u001b[0;32m   1214\u001b[0m \u001b[1;33m\u001b[0m\u001b[0m\n\u001b[0;32m   1215\u001b[0m         X, y = check_X_y(X, y, accept_sparse='csr', dtype=_dtype,\n\u001b[1;32m-> 1216\u001b[1;33m                          order=\"C\")\n\u001b[0m\u001b[0;32m   1217\u001b[0m         \u001b[0mcheck_classification_targets\u001b[0m\u001b[1;33m(\u001b[0m\u001b[0my\u001b[0m\u001b[1;33m)\u001b[0m\u001b[1;33m\u001b[0m\u001b[0m\n\u001b[0;32m   1218\u001b[0m         \u001b[0mself\u001b[0m\u001b[1;33m.\u001b[0m\u001b[0mclasses_\u001b[0m \u001b[1;33m=\u001b[0m \u001b[0mnp\u001b[0m\u001b[1;33m.\u001b[0m\u001b[0munique\u001b[0m\u001b[1;33m(\u001b[0m\u001b[0my\u001b[0m\u001b[1;33m)\u001b[0m\u001b[1;33m\u001b[0m\u001b[0m\n",
      "\u001b[1;32m~\\Anaconda3\\lib\\site-packages\\sklearn\\utils\\validation.py\u001b[0m in \u001b[0;36mcheck_X_y\u001b[1;34m(X, y, accept_sparse, dtype, order, copy, force_all_finite, ensure_2d, allow_nd, multi_output, ensure_min_samples, ensure_min_features, y_numeric, warn_on_dtype, estimator)\u001b[0m\n\u001b[0;32m    571\u001b[0m     X = check_array(X, accept_sparse, dtype, order, copy, force_all_finite,\n\u001b[0;32m    572\u001b[0m                     \u001b[0mensure_2d\u001b[0m\u001b[1;33m,\u001b[0m \u001b[0mallow_nd\u001b[0m\u001b[1;33m,\u001b[0m \u001b[0mensure_min_samples\u001b[0m\u001b[1;33m,\u001b[0m\u001b[1;33m\u001b[0m\u001b[0m\n\u001b[1;32m--> 573\u001b[1;33m                     ensure_min_features, warn_on_dtype, estimator)\n\u001b[0m\u001b[0;32m    574\u001b[0m     \u001b[1;32mif\u001b[0m \u001b[0mmulti_output\u001b[0m\u001b[1;33m:\u001b[0m\u001b[1;33m\u001b[0m\u001b[0m\n\u001b[0;32m    575\u001b[0m         y = check_array(y, 'csr', force_all_finite=True, ensure_2d=False,\n",
      "\u001b[1;32m~\\Anaconda3\\lib\\site-packages\\sklearn\\utils\\validation.py\u001b[0m in \u001b[0;36mcheck_array\u001b[1;34m(array, accept_sparse, dtype, order, copy, force_all_finite, ensure_2d, allow_nd, ensure_min_samples, ensure_min_features, warn_on_dtype, estimator)\u001b[0m\n\u001b[0;32m    439\u001b[0m                     \u001b[1;34m\"Reshape your data either using array.reshape(-1, 1) if \"\u001b[0m\u001b[1;33m\u001b[0m\u001b[0m\n\u001b[0;32m    440\u001b[0m                     \u001b[1;34m\"your data has a single feature or array.reshape(1, -1) \"\u001b[0m\u001b[1;33m\u001b[0m\u001b[0m\n\u001b[1;32m--> 441\u001b[1;33m                     \"if it contains a single sample.\".format(array))\n\u001b[0m\u001b[0;32m    442\u001b[0m             \u001b[0marray\u001b[0m \u001b[1;33m=\u001b[0m \u001b[0mnp\u001b[0m\u001b[1;33m.\u001b[0m\u001b[0matleast_2d\u001b[0m\u001b[1;33m(\u001b[0m\u001b[0marray\u001b[0m\u001b[1;33m)\u001b[0m\u001b[1;33m\u001b[0m\u001b[0m\n\u001b[0;32m    443\u001b[0m             \u001b[1;31m# To ensure that array flags are maintained\u001b[0m\u001b[1;33m\u001b[0m\u001b[1;33m\u001b[0m\u001b[0m\n",
      "\u001b[1;31mValueError\u001b[0m: Expected 2D array, got 1D array instead:\narray=[   0.    0.    0.    0.    0.    0.    0.    0.    0.    0.    0.    0.\n    0.    0.    0.    0.    0.    0.    0.    0.    0.    0.    0.    0.\n    0.    0.    0.    0.    0.    0.    0.    0.    0.    0.    0.    0.\n    0.    0.    0.    0.    0.    0.    0.    0.    0.    0.    0.    0.\n    0.    0.    0.    0.    0.    0.    0.    0.    0.    0.    0.    0.\n    0.    0.    0.    0.    0.    0.    0.    0.    0.    0.    0.    0.\n    0.    0.    0.    0.    0.    0.    0.    0.    0.    0.    0.    0.\n    0.    0.    0.    0.    0.    0.    0.    0.    0.    0.    0.    0.\n    0.    0.    0.    0.    0.    0.    0.    0.    0.    0.    0.    0.\n    0.    0.    0.    0.    0.    0.    0.    0.    0.    0.    0.    0.\n    0.    0.    0.    0.    0.    0.    0.    0.    0.    0.    0.    0.\n    0.    0.    0.    0.    0.    0.    0.    0.    0.    0.    0.    0.\n    0.    0.    0.    0.    0.    0.    0.    0.   17.   66.  138.  255.\n  253.  169.  138.   23.    0.    0.    0.    0.    0.    0.    0.    0.\n    0.    0.    0.    0.    0.    0.    0.    0.    0.    0.    5.  120.\n  228.  252.  252.  253.  252.  252.  252.  158.    0.    0.    0.    0.\n    0.    0.    0.    0.    0.    0.    0.    0.    0.    0.    0.    0.\n    0.    0.  108.  252.  252.  252.  252.  190.  252.  252.  252.  252.\n    0.    0.    0.    0.    0.    0.    0.    0.    0.    0.    0.    0.\n    0.    0.    0.    0.    0.   43.  233.  252.  252.  252.  116.    5.\n  135.  252.  252.  252.    0.    0.    0.    0.    0.    0.    0.    0.\n    0.    0.    0.    0.    0.    0.    0.    0.   43.  178.  253.  252.\n  221.   43.    2.    0.    5.   54.  232.  252.  210.    0.    0.    0.\n    0.    0.    0.    0.    0.    0.    0.    0.    0.    0.    0.    0.\n   93.  253.  255.  249.  115.    0.    0.    0.    0.    0.  136.  251.\n  255.  154.    0.    0.    0.    0.    0.    0.    0.    0.    0.    0.\n    0.    0.    0.    0.  166.  252.  253.  185.    0.    0.    0.    0.\n    0.    0.    0.  209.  253.  206.    0.    0.    0.    0.    0.    0.\n    0.    0.    0.    0.    0.    0.    0.   19.  220.  252.  253.   92.\n    0.    0.    0.    0.    0.    0.    0.  116.  253.  206.    0.    0.\n    0.    0.    0.    0.    0.    0.    0.    0.    0.    0.    0.   70.\n  252.  252.  192.   17.    0.    0.    0.    0.    0.    0.    0.  116.\n  253.  223.   25.    0.    0.    0.    0.    0.    0.    0.    0.    0.\n    0.    0.    0.  122.  252.  252.   63.    0.    0.    0.    0.    0.\n    0.    0.    0.  116.  253.  252.   69.    0.    0.    0.    0.    0.\n    0.    0.    0.    0.    0.    0.    0.  132.  253.  253.    0.    0.\n    0.    0.    0.    0.    0.    0.    0.  116.  255.  253.   69.    0.\n    0.    0.    0.    0.    0.    0.    0.    0.    0.    0.    0.  184.\n  252.  252.    0.    0.    0.    0.    0.    0.    0.    0.    0.  116.\n  253.  252.   69.    0.    0.    0.    0.    0.    0.    0.    0.    0.\n    0.    0.    0.  184.  252.  252.    0.    0.    0.    0.    0.    0.\n    0.    0.    0.  116.  253.  240.   50.    0.    0.    0.    0.    0.\n    0.    0.    0.    0.    0.    0.    0.  184.  252.  252.    0.    0.\n    0.    0.    0.    0.    0.    0.    0.  210.  253.  112.    0.    0.\n    0.    0.    0.    0.    0.    0.    0.    0.    0.    0.    0.   48.\n  232.  252.  158.    0.    0.    0.    0.    0.    0.    0.    0.  230.\n  232.    8.    0.    0.    0.    0.    0.    0.    0.    0.    0.    0.\n    0.    0.    0.    0.   93.  253.  244.   50.    0.    0.    0.    0.\n    0.    0.  155.  253.  168.    0.    0.    0.    0.    0.    0.    0.\n    0.    0.    0.    0.    0.    0.    0.    0.   34.  164.  253.  113.\n    0.    0.    0.    0.    0.   66.  236.  231.   42.    0.    0.    0.\n    0.    0.    0.    0.    0.    0.    0.    0.    0.    0.    0.    0.\n    0.   32.  222.  240.  134.    0.    0.   38.   91.  234.  252.  137.\n    0.    0.    0.    0.    0.    0.    0.    0.    0.    0.    0.    0.\n    0.    0.    0.    0.    0.    0.   25.  177.  240.  207.  103.  233.\n  252.  252.  176.   35.    0.    0.    0.    0.    0.    0.    0.    0.\n    0.    0.    0.    0.    0.    0.    0.    0.    0.    0.    0.   15.\n   54.  179.  252.  137.  137.   54.    4.    0.    0.    0.    0.    0.\n    0.    0.    0.    0.    0.    0.    0.    0.    0.    0.    0.    0.\n    0.    0.    0.    0.    0.    0.    0.    0.    0.    0.    0.    0.\n    0.    0.    0.    0.    0.    0.    0.    0.    0.    0.    0.    0.\n    0.    0.    0.    0.    0.    0.    0.    0.    0.    0.    0.    0.\n    0.    0.    0.    0.    0.    0.    0.    0.    0.    0.    0.    0.\n    0.    0.    0.    0.    0.    0.    0.    0.    0.    0.    0.    0.\n    0.    0.    0.    0.    0.    0.    0.    0.    0.    0.    0.    0.\n    0.    0.    0.    0.].\nReshape your data either using array.reshape(-1, 1) if your data has a single feature or array.reshape(1, -1) if it contains a single sample."
     ]
    }
   ],
   "source": [
    "from sklearn.multiclass import OneVsRestClassifier\n",
    "from sklearn.svm import SVC\n",
    "from sklearn.preprocessing import Normalizer\n",
    "from sklearn.linear_model import LogisticRegression\n",
    "\n",
    "logisticRegr = LogisticRegression(solver = 'lbfgs')\n",
    "\n",
    "train_data_n = logisticRegr.fit(train_data[2],2)\n",
    "\n",
    "pca = PCA(n_components = 1000)\n",
    "train_data_dr = pca.fit_transform(train_data_n)\n",
    "test_data_dr = pca.fit_transform(test_data_n)\n",
    "model = OneVsRestClassifier(LR(C=1.0)).fit(train_data_dr, train_labels)\n",
    "print('The prediction using n=10',model.score(test_data_dr, test_labels))"
   ]
  },
  {
   "cell_type": "markdown",
   "metadata": {},
   "source": [
    "## Question 4\n",
    "We have reduced the dimesion to 2, but this was an arbitrary choice. How can we select a better value for d?"
   ]
  },
  {
   "cell_type": "code",
   "execution_count": null,
   "metadata": {
    "collapsed": true
   },
   "outputs": [],
   "source": []
  },
  {
   "cell_type": "markdown",
   "metadata": {},
   "source": [
    "# Please write your complete report in markdown here."
   ]
  },
  {
   "cell_type": "markdown",
   "metadata": {},
   "source": [
    "## Report "
   ]
  },
  {
   "cell_type": "markdown",
   "metadata": {},
   "source": [
    "For this last practical lab session of SSI Pattern Recognition \n",
    "about Linear classification we had to explain what we have accomplish \n",
    "in a few lines report. \n",
    "\n",
    "## II. Female or Male?\n",
    "\n",
    "Using the file named 'heightWeighData.txt' containing the height \n",
    "and weight of differents people the goal in this part will be to \n",
    "classify the corresponding weight and height corresponding to a \n",
    "male or a female by using different process as LDA  and PCA.\n",
    "\n",
    "### Question 1:  Extraction of the data \n",
    "\n",
    "#### First step: extract the weight and height data corresponding to males.\n",
    "\n",
    "To answer this first step I created a function called 'eigsorted(cov)' \n",
    "using 'linalg.eigh' which will return the eigenvalues and the matrix \n",
    "needed for the extraction of the expecting details.\n",
    "\n",
    "#### Second step: Construction of a 2D gaussian \n",
    "\n",
    "For this we need to get the mean and covariance of the male data and\n",
    "then normalize it.\n",
    "\n",
    "#### Third step: Plot the Gaussian \n",
    "\n",
    "We had to plot the Gaussian as an ellipse shape as you can see in the \n",
    "above figure 1 which enable us to visualize the male height and weight.\n",
    "\n",
    "### Question 3: Compute\n",
    "\n",
    "So after standardize the gaussian and normalize the value we obtain a \n",
    "normalized Gaussian plot \n",
    "which give an accurate visualization of the male data.\n",
    "\n",
    "## III. Digits recognition\n",
    "\n",
    "### Question 1: data visualization\n",
    "\n",
    "The first question of visualize the training and test data in order \n",
    "to recognize which digit is display in the Figure 3 we can visualize\n",
    "the number 9.\n",
    "\n",
    "### Question 2: Dimension reduction \n",
    "\n",
    " Using PCA we will reduce the dimension of the data and visualize some\n",
    "training examples in Figure 4.\n",
    "\n"
   ]
  },
  {
   "cell_type": "code",
   "execution_count": null,
   "metadata": {
    "collapsed": true
   },
   "outputs": [],
   "source": []
  }
 ],
 "metadata": {
  "kernelspec": {
   "display_name": "Python 3",
   "language": "python",
   "name": "python3"
  },
  "language_info": {
   "codemirror_mode": {
    "name": "ipython",
    "version": 3
   },
   "file_extension": ".py",
   "mimetype": "text/x-python",
   "name": "python",
   "nbconvert_exporter": "python",
   "pygments_lexer": "ipython3",
   "version": "3.6.3"
  }
 },
 "nbformat": 4,
 "nbformat_minor": 2
}
