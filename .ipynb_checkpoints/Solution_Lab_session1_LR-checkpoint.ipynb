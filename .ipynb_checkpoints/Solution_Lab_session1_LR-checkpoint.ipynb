{
 "cells": [
  {
   "cell_type": "markdown",
   "metadata": {},
   "source": [
    "# Lab session 1 ---- Linear Regression"
   ]
  },
  {
   "cell_type": "markdown",
   "metadata": {},
   "source": [
    "Student: Boudissa Selma                     \n",
    "Date:09/03/18"
   ]
  },
  {
   "cell_type": "markdown",
   "metadata": {},
   "source": [
    "## I. Introduction\n",
    "In this exercise, we will implement linear regression with one and multiple variables, as well as gradient descent."
   ]
  },
  {
   "cell_type": "markdown",
   "metadata": {},
   "source": [
    "## II. Linear regression with one variable\n",
    "Suppose you are the CEO of a restaurant franchise and are considering different cities for opening a new food truck. The chain already has trucks in various cities and you have data for profits and populations from the cities.\n",
    "You would like to use this data to help you select which city to expand to next. The file lab1data1.txt contains the dataset: the first column is the poplulation of a city and the second column is the profit of a food truck in that city. An negative value for profit indicates a loss."
   ]
  },
  {
   "cell_type": "markdown",
   "metadata": {},
   "source": [
    "### Solution Question 1"
   ]
  },
  {
   "cell_type": "code",
   "execution_count": 3,
   "metadata": {
    "collapsed": true
   },
   "outputs": [],
   "source": [
    "import numpy as np\n",
    "import matplotlib.pyplot as plt \n"
   ]
  },
  {
   "cell_type": "code",
   "execution_count": 4,
   "metadata": {},
   "outputs": [
    {
     "name": "stdout",
     "output_type": "stream",
     "text": [
      "There is 97 samples and 1 features\n"
     ]
    },
    {
     "data": {
      "image/png": "[encoded data removed]",
      "text/plain": [
       "<matplotlib.figure.Figure at 0x7f19922bce50>"
      ]
     },
     "metadata": {},
     "output_type": "display_data"
    }
   ],
   "source": [
    "# load the data\n",
    "data = np.loadtxt(\"data1.txt\", delimiter=',')\n",
    "X = np.atleast_2d(data[:, :-1])\n",
    "y = data[:, -1]\n",
    "print('There is {} samples and {} features'.format(X.shape[0],X.shape[1]))\n",
    "\n",
    "#print the data\n",
    "\n",
    "plt.figure()\n",
    "plt.scatter(X, y, label='training')\n",
    "plt.xlabel('Population by city in 10,000s')\n",
    "plt.ylabel('Profit in $10,000s')\n",
    "plt.legend()\n",
    "plt.show()"
   ]
  },
  {
   "cell_type": "markdown",
   "metadata": {},
   "source": [
    "### Solution Question 2"
   ]
  },
  {
   "cell_type": "code",
   "execution_count": 8,
   "metadata": {},
   "outputs": [
    {
     "name": "stdout",
     "output_type": "stream",
     "text": [
      "[ 0.71726101 -0.01357131]\n",
      "[-3.89578088  1.19303364]\n"
     ]
    },
    {
     "data": {
      "image/png": "[encoded data removed]",
      "text/plain": [
       "<matplotlib.figure.Figure at 0x7f19b414ec10>"
      ]
     },
     "metadata": {},
     "output_type": "display_data"
    }
   ],
   "source": [
    "# Linear regression \n",
    "def linear_regression (x,y):\n",
    "    n = len(x); #size of x\n",
    "    \n",
    "    A = sum(x*y)-sum(x)*sum(y);\n",
    "    B = sum(x**(2))-((sum(x))**(2));\n",
    "    \n",
    "    w1=(n*A)/(n*B);\n",
    "    w0=np.mean(y)-w1*np.mean(x);\n",
    "    \n",
    "    w = [w1,w0]\n",
    "    \n",
    "    #other method \n",
    "    #if intercept:\n",
    "       # X_ = np.asmatrix(X)\n",
    "        #else:\n",
    "         #   intercept_array = np.ones((X.shape[0], 1))\n",
    "            # add intercept\n",
    "          #  X_ = np.asmatyrix(np.hstack((intercept_array, X))\n",
    "    \n",
    "    #Least squares\n",
    "   # w,_,_,_=np.linalg.lstsq(x_,y)\n",
    "\n",
    "    return w\n",
    "\n",
    "# Plotting \n",
    "wt = linear_regression(X, y)\n",
    "\n",
    "w1, w0 = wt \n",
    "x = X \n",
    "yr = w0 + w1 * x\n",
    "\n",
    "# print(np.mean(yr, axis=1))\n",
    "\n",
    "plt.plot(x , np.mean(yr, axis=1))\n",
    "plt.plot(x,y, 'rx')\n",
    "\n",
    "intercept = np.ones((x.shape[0], 1))\n",
    "Xstack = np.asmatrix(np.hstack((intercept, x)))\n",
    "wt2,_,_,_ = np.linalg.lstsq(Xstack,y)\n",
    "print(np.mean(wt, axis=1))\n",
    "print(wt2)\n",
    "\n",
    "yrtrue = wt2[1] * x + wt2[0]\n",
    "plt.plot(x,yrtrue, 'g')\n",
    "plt.show()\n",
    "\n",
    "#w = linear_regression(X,y)\n",
    "#print('the parameters estimated are: {}'.format(w))"
   ]
  },
  {
   "cell_type": "markdown",
   "metadata": {},
   "source": [
    "### Solution Question 3"
   ]
  },
  {
   "cell_type": "code",
   "execution_count": 10,
   "metadata": {},
   "outputs": [
    {
     "name": "stdout",
     "output_type": "stream",
     "text": [
      "the parameters estimated are: [  2798.3686  44554.546 ]\n"
     ]
    }
   ],
   "source": [
    "# Making Predictations\n",
    "test = np.array ([3.5, 7.0])\n",
    "w = [ 1.19303364,-3.89578088 ]\n",
    "def predict (wt2,y):\n",
    "    y = np.vstack([y.flatten(), np.ones(len(y.flatten()))])\n",
    "    predict = np.dot(wt2,y)\n",
    "    return predict\n",
    "\n",
    "prediction = predict (w,test)\n",
    "print('the parameters estimated are: {}'.format(prediction*10000))\n"
   ]
  },
  {
   "cell_type": "markdown",
   "metadata": {},
   "source": [
    "## III. Linear regression with multiple variables\n",
    "Suppose you are selling your house and you want to know what a good market price would be. One way to do this is to collect information on recent houses sold and make a model of housing prices.\n",
    "The file lab1data2.txt contains a training set of housing prices in a city. The first column is the size of the house (in square feet), the second column is the number of bedrooms and the third column is the price of the house."
   ]
  },
  {
   "cell_type": "markdown",
   "metadata": {},
   "source": [
    "### Solution Question 1"
   ]
  },
  {
   "cell_type": "code",
   "execution_count": 11,
   "metadata": {},
   "outputs": [
    {
     "name": "stdout",
     "output_type": "stream",
     "text": [
      "there is 97 samples and 1 features\n"
     ]
    },
    {
     "ename": "AttributeError",
     "evalue": "'list' object has no attribute 'size'",
     "output_type": "error",
     "traceback": [
      "\u001b[0;31m---------------------------------------------------------------------------\u001b[0m",
      "\u001b[0;31mAttributeError\u001b[0m                            Traceback (most recent call last)",
      "\u001b[0;32m<ipython-input-11-3fc7711cc472>\u001b[0m in \u001b[0;36m<module>\u001b[0;34m()\u001b[0m\n\u001b[1;32m      4\u001b[0m \u001b[0mw\u001b[0m \u001b[0;34m=\u001b[0m \u001b[0mlinear_regression\u001b[0m\u001b[0;34m(\u001b[0m\u001b[0mX\u001b[0m\u001b[0;34m,\u001b[0m\u001b[0my\u001b[0m\u001b[0;34m)\u001b[0m\u001b[0;34m\u001b[0m\u001b[0m\n\u001b[1;32m      5\u001b[0m \u001b[0;31m# w should have three parameters now\u001b[0m\u001b[0;34m\u001b[0m\u001b[0;34m\u001b[0m\u001b[0m\n\u001b[0;32m----> 6\u001b[0;31m \u001b[0;32massert\u001b[0m \u001b[0mw\u001b[0m\u001b[0;34m.\u001b[0m\u001b[0msize\u001b[0m \u001b[0;34m==\u001b[0m \u001b[0;36m3\u001b[0m\u001b[0;34m\u001b[0m\u001b[0m\n\u001b[0m\u001b[1;32m      7\u001b[0m \u001b[0;32mprint\u001b[0m\u001b[0;34m(\u001b[0m\u001b[0;34m'The parameters estimated are : {}'\u001b[0m\u001b[0;34m.\u001b[0m\u001b[0mformat\u001b[0m\u001b[0;34m(\u001b[0m\u001b[0mw\u001b[0m\u001b[0;34m)\u001b[0m\u001b[0;34m)\u001b[0m\u001b[0;34m\u001b[0m\u001b[0m\n",
      "\u001b[0;31mAttributeError\u001b[0m: 'list' object has no attribute 'size'"
     ]
    }
   ],
   "source": [
    "# Linear regression with multiple variables\n",
    "def linear_regression_mutiple (x,y):\n",
    "\n",
    "print('there is {} samples and {} features'.format(X.shape[0], X.shape[1]))\n",
    "\n",
    "#check that the linear regression is working \n",
    "w = linear_regression(X,y)\n",
    "# w should have three parameters now\n",
    "assert w.size == 3\n",
    "print('The parameters estimated are : {}'.format(w))"
   ]
  },
  {
   "cell_type": "markdown",
   "metadata": {},
   "source": [
    "### Solution Question 2"
   ]
  },
  {
   "cell_type": "code",
   "execution_count": null,
   "metadata": {
    "collapsed": true
   },
   "outputs": [],
   "source": [
    "def feature_normalization(X):\n",
    "    "
   ]
  },
  {
   "cell_type": "markdown",
   "metadata": {},
   "source": [
    "### Solution Question 3"
   ]
  },
  {
   "cell_type": "code",
   "execution_count": null,
   "metadata": {
    "collapsed": true
   },
   "outputs": [],
   "source": []
  },
  {
   "cell_type": "markdown",
   "metadata": {},
   "source": [
    "### Solution Question 4"
   ]
  },
  {
   "cell_type": "code",
   "execution_count": null,
   "metadata": {
    "collapsed": true
   },
   "outputs": [],
   "source": []
  },
  {
   "cell_type": "markdown",
   "metadata": {},
   "source": [
    "## IV. Gradient descent\n",
    "We will now perform linear regression using gradient descent."
   ]
  },
  {
   "cell_type": "markdown",
   "metadata": {},
   "source": [
    "### Solution Question 1"
   ]
  },
  {
   "cell_type": "code",
   "execution_count": null,
   "metadata": {
    "collapsed": true
   },
   "outputs": [],
   "source": []
  },
  {
   "cell_type": "markdown",
   "metadata": {},
   "source": [
    "### Solution Question 2"
   ]
  },
  {
   "cell_type": "code",
   "execution_count": null,
   "metadata": {
    "collapsed": true
   },
   "outputs": [],
   "source": []
  },
  {
   "cell_type": "markdown",
   "metadata": {},
   "source": [
    "### Solution Question 3"
   ]
  },
  {
   "cell_type": "code",
   "execution_count": null,
   "metadata": {
    "collapsed": true
   },
   "outputs": [],
   "source": []
  }
 ],
 "metadata": {
  "anaconda-cloud": {},
  "kernelspec": {
   "display_name": "Python 2",
   "language": "python",
   "name": "python2"
  },
  "language_info": {
   "codemirror_mode": {
    "name": "ipython",
    "version": 2
   },
   "file_extension": ".py",
   "mimetype": "text/x-python",
   "name": "python",
   "nbconvert_exporter": "python",
   "pygments_lexer": "ipython2",
   "version": "2.7.13"
  }
 },
 "nbformat": 4,
 "nbformat_minor": 1
}
